{
 "cells": [
  {
   "cell_type": "markdown",
   "metadata": {},
   "source": [
    "# Intro to Bayesian Statistics Lab\n",
    "\n",
    "Complete the following set of exercises to solidify your knowledge of Bayesian statistics and Bayesian data analysis."
   ]
  },
  {
   "cell_type": "code",
   "execution_count": 3,
   "metadata": {},
   "outputs": [],
   "source": [
    "import pandas as pd\n",
    "import numpy as np\n",
    "import matplotlib.pyplot as plt"
   ]
  },
  {
   "cell_type": "markdown",
   "metadata": {},
   "source": [
    "## 1. Cookie Problem\n",
    "\n",
    "Suppose we have two bowls of cookies. Bowl 1 contains 30 vanilla cookies and 10 chocolate cookies. Bowl 2 contains 20 of each. You randomly pick one cookie out of one of the bowls, and it is vanilla. Use Bayes Theorem to calculate the probability that the vanilla cookie you picked came from Bowl 1?"
   ]
  },
  {
   "cell_type": "code",
   "execution_count": null,
   "metadata": {},
   "outputs": [],
   "source": [
    "'''\n",
    "P (A): Prior Probability - probability of A in the first palce (before B)\n",
    "P (B | A): Likelihood - probability of event B after having event A\n",
    "P (B): Marginal Probability - probability of event B at all, with or without A \n",
    "P (A | B): Posterior Probability - probability of having gotten B with A as hypothesis\n",
    "'''"
   ]
  },
  {
   "cell_type": "code",
   "execution_count": null,
   "metadata": {},
   "outputs": [],
   "source": [
    "'''\n",
    "Bowl_1 = 30V + 10C\n",
    "Bowl_2 = 20V + 20C\n",
    "\n",
    "P(B1) = probability of cookie coming from Bowl_1\n",
    "P(V) = probability of being a vanilla cookie\n",
    "\n",
    "P(B1|V) = probability of the cookie coming from Bowl_1 given that we know is a vanilla one = ?\n",
    "P(B1|V) = (P(V|B1) * P(B1)) / P(V) = \n",
    "        = (30/40 * 1/2 ) / ((30+20)/80)\n",
    "        = 0.6\n",
    "'''\n",
    "\n",
    "\n",
    "#is this what was supposed to be done?"
   ]
  },
  {
   "cell_type": "markdown",
   "metadata": {},
   "source": [
    "What is the probability that it came from Bowl 2?"
   ]
  },
  {
   "cell_type": "code",
   "execution_count": null,
   "metadata": {},
   "outputs": [],
   "source": [
    "'''\n",
    "P(B2|V) = (P(V|B2) * P(B2)) / P(V)\n",
    "        = (1/2 * 0.5) / (5/8)\n",
    "        = 0.4\n",
    "\n",
    "'''\n",
    "#The fact that here P(B1|V) + P(B2|V) = 1 was not a coincidence right? There is only 2 bowls,\n",
    "#so if it is not from one bowl, is from the other."
   ]
  },
  {
   "cell_type": "markdown",
   "metadata": {},
   "source": [
    "What if the cookie you had picked was chocolate? What are the probabilities that the chocolate cookie came from Bowl 1 and Bowl 2 respectively?"
   ]
  },
  {
   "cell_type": "code",
   "execution_count": null,
   "metadata": {},
   "outputs": [],
   "source": [
    "'''\n",
    "P(B1|C) = (P(C|B1) * P(B1)) / P(C)\n",
    "        = (1/4 * 0.5) /  ((10+20)/80)\n",
    "        = 0.125 / 0.375\n",
    "        = 0.333\n",
    "        \n",
    "        \n",
    "P(B2|C) = (P(C|B2) * P(B2)) / P(C)\n",
    "        = (1/2 * 0.5) /  (3/8)\n",
    "        = 0.25 / 0.375\n",
    "        =  0.666            \n",
    "\n",
    "'''\n",
    "#correct?"
   ]
  },
  {
   "cell_type": "markdown",
   "metadata": {},
   "source": [
    "## 2. Candy Problem\n",
    "\n",
    "Suppose you have two bags of candies:\n",
    "\n",
    "- In Bag 1, the mix of colors is:\n",
    "    - Brown - 30%\n",
    "    - Yellow - 20%\n",
    "    - Red - 20%\n",
    "    - Green - 10%\n",
    "    - Orange - 10%\n",
    "    - Tan - 10%\n",
    "    \n",
    "- In Bag 2, the mix of colors is:\n",
    "    - Blue - 24%\n",
    "    - Green - 20%\n",
    "    - Orange - 16%\n",
    "    - Yellow - 14%\n",
    "    - Red - 13%\n",
    "    - Brown - 13%\n",
    "    \n",
    "Not knowing which bag is which, you randomly draw one candy from each bag. One is yellow and one is green. What is the probability that the yellow one came from the Bag 1?\n",
    "\n",
    "*Hint: For the likelihoods, you will need to multiply the probabilities of drawing yellow from one bag and green from the other bag and vice versa.*"
   ]
  },
  {
   "cell_type": "code",
   "execution_count": 9,
   "metadata": {},
   "outputs": [
    {
     "name": "stdout",
     "output_type": "stream",
     "text": [
      "0.7407407407407408\n"
     ]
    }
   ],
   "source": [
    "'''\n",
    "automaticaly green candy has to come from bag2\n",
    "P(B1|Y | (G|B2)) = (P(Y|B1 | G|B2)) * P(B1)) / P(Y) \n",
    "        \n",
    "        = ((0.2 * 0.2) * 0.5) / (0.5*0.2 + 0.5*0.14) =\n",
    "        = ((0.2 * 0.2) * 0.5) / (20+14/200)\n",
    "        = 0.1176 NOPE\n",
    "         \n",
    "         \n",
    "        0.2*0.2 -> likelihood (Y from B1 * G from B2)\n",
    "        0.5 -> prior (Y coming from one of the bags. we ask the Y candy where did it came for?/what's your probability of you coming from B1?)\n",
    "        0.5(0.2*0.2)+0.5(0.1*0.14)   -> both options! (Y from B1 * G from B2)+(Y from B2 * G from B1)\n",
    "   (P(B) = P(A) P(B|A) + P(-A) P(B|-A))\n",
    "    \n",
    "        FINAL ANSWER: ((0.2*0.2)*0.5)/(0.5(0.2*0.2)+0.5(0.1*0.14)) = 0.74\n",
    "'''\n",
    "a = ((0.2*0.2)*0.5)/((0.5*(0.2*0.2))+(0.5*(0.1*0.14)))\n",
    "print(a)"
   ]
  },
  {
   "cell_type": "markdown",
   "metadata": {},
   "source": [
    "What is the probability that the yellow candy came from Bag 2?"
   ]
  },
  {
   "cell_type": "code",
   "execution_count": 10,
   "metadata": {},
   "outputs": [
    {
     "name": "stdout",
     "output_type": "stream",
     "text": [
      "0.25925925925925924\n"
     ]
    }
   ],
   "source": [
    "'''\n",
    "(0.14*0.10) --> (Y from B2 * G from B1)\n",
    "0.5 ---> 1 out of 2 bags\n",
    "0.5(0.2*0.2)+0.5(0.1*0.14) ---> same for everyone\n",
    "\n",
    "\n",
    "FINAL ANSWER: ((0.14*0.1)*0.5)/(0.5(0.2*0.2)+0.5(0.1*0.14)) = 0.259\n",
    "'''\n",
    "a = ((0.14*0.1)*0.5)/((0.5*(0.2*0.2))+(0.5*(0.1*0.14)))\n",
    "print(a)"
   ]
  },
  {
   "cell_type": "markdown",
   "metadata": {},
   "source": [
    "What are the probabilities that the green one came from Bag 1 and Bag 2 respectively?"
   ]
  },
  {
   "cell_type": "code",
   "execution_count": 11,
   "metadata": {},
   "outputs": [
    {
     "name": "stdout",
     "output_type": "stream",
     "text": [
      "0.25925925925925924\n",
      "0.7407407407407408\n"
     ]
    }
   ],
   "source": [
    "\n",
    "#green coming from bag 1\n",
    "'''\n",
    "(0.1*0.14) --> (G from B1 * Y from B2)\n",
    "0.5 ---> 1 out of 2 bags\n",
    "(0.5(0.2*0.2)+0.5(0.1*0.14))\n",
    "\n",
    "\n",
    "FINAL ANSWER: ((0.1*0.14)*0.5)/(0.5(0.2*0.2)+0.5(0.1*0.14)) = 0.35\n",
    "'''\n",
    "\n",
    "a = ((0.1*0.14)*0.5)/((0.5*(0.2*0.2))+(0.5*(0.1*0.14)))\n",
    "print(a)\n",
    "\n",
    "#green coming from bag 2\n",
    "'''\n",
    "(0.2*0.2) --> (G from B2 * Y from B1)\n",
    "0.5 ---> 1 out of 2 bags\n",
    "(0.5(0.2*0.2)+0.5(0.1*0.14))    \n",
    "\n",
    "\n",
    "FINAL ANSWER: ((0.2*0.2)*0.5)/(0.5(0.2*0.2)+0.5(0.1*0.14)) = \n",
    "'''\n",
    "\n",
    "b = ((0.2*0.2)*0.5)/((0.5*(0.2*0.2))+(0.5*(0.1*0.14)))\n",
    "print(b)"
   ]
  },
  {
   "cell_type": "markdown",
   "metadata": {},
   "source": [
    "## 3. Monty Hall Problem\n",
    "\n",
    "Suppose you are a contestant on the popular game show *Let's Make a Deal*. The host of the show (Monty Hall) presents you with three doors - Door A, Door B, and Door C. He tells you that there is a sports car behind one of them and if you choose the correct one, you win the car!\n",
    "\n",
    "You select Door A, but then Monty makes things a little more interesting. He opens Door B to reveal that there is no sports car behind it and asks you if you would like to stick with your choice of Door A or switch your choice to Door C. Given this new information, what are the probabilities of you winning the car if you stick with Door A versus if you switch to Door C?"
   ]
  },
  {
   "cell_type": "code",
   "execution_count": null,
   "metadata": {},
   "outputs": [],
   "source": [
    "#50%? nope:\n",
    "\n",
    "'''\n",
    "\n",
    "Vos Savant's response was that the contestant should switch to the other door (vos Savant 1990a). Under the standard assumptions, contestants who switch have a \n",
    "2\n",
    "/\n",
    "3\n",
    " chance of winning the car, while contestants who stick to their initial choice have only a \n",
    "1\n",
    "/\n",
    "3\n",
    " chance\n",
    "'''"
   ]
  }
 ],
 "metadata": {
  "kernelspec": {
   "display_name": "Python 3",
   "language": "python",
   "name": "python3"
  },
  "language_info": {
   "codemirror_mode": {
    "name": "ipython",
    "version": 3
   },
   "file_extension": ".py",
   "mimetype": "text/x-python",
   "name": "python",
   "nbconvert_exporter": "python",
   "pygments_lexer": "ipython3",
   "version": "3.6.1"
  }
 },
 "nbformat": 4,
 "nbformat_minor": 2
}
